{
 "cells": [
  {
   "cell_type": "markdown",
   "metadata": {},
   "source": [
    "# EEG Problem Set (Part 1)"
   ]
  },
  {
   "cell_type": "code",
   "execution_count": null,
   "metadata": {},
   "outputs": [],
   "source": [
    "import numpy as np\n",
    "import matplotlib.pyplot as plt\n",
    "import seaborn as sns\n",
    "%matplotlib inline"
   ]
  },
  {
   "cell_type": "markdown",
   "metadata": {},
   "source": [
    "## Instructions\n",
    "\n",
    "In this problem set, we will be analyzing EEG data from one participant who completed an [oddball paradigm](https://en.wikipedia.org/wiki/Oddball_paradigm). \n",
    "\n",
    "In this first notebook, you will preprocess the raw data. Specifically, you will (1) load and inspect the raw data, (2) mark bad channels, (3) filter the data, and (4) remove eyeblinks with independent components analysis. Question prompts are included throughout the notebook to guide you in analysis. Note that these require answers to earn full points."
   ]
  },
  {
   "cell_type": "markdown",
   "metadata": {},
   "source": [
    "## Step 1: Load and inspect raw data"
   ]
  },
  {
   "cell_type": "code",
   "execution_count": null,
   "metadata": {},
   "outputs": [],
   "source": [
    "from mne.io import read_raw_fif\n",
    "\n",
    "## Load data.\n",
    "raw = read_raw_fif('sub-01_task-digitsymbol_raw.fif', preload=True, verbose=False)\n",
    "print(raw)"
   ]
  },
  {
   "cell_type": "markdown",
   "metadata": {},
   "source": [
    "### Inspecting metadata\n",
    "Inspect the recording metadata with `raw.info` and answer the following questions:\n",
    "\n",
    "**Q**: How many EEG channels does this dataset have? How many peripheral channels?\n",
    "\n",
    "> &nbsp;\n",
    "\n",
    "**Q**: What is the sampling frequency of the data?\n",
    "\n",
    "> &nbsp;\n",
    "\n",
    "**Q**: Has the data already been filtered?\n",
    "\n",
    "> &nbsp;"
   ]
  },
  {
   "cell_type": "code",
   "execution_count": null,
   "metadata": {},
   "outputs": [],
   "source": []
  },
  {
   "cell_type": "markdown",
   "metadata": {},
   "source": [
    "### Channel layout\n",
    "Plot the channel layout below."
   ]
  },
  {
   "cell_type": "code",
   "execution_count": null,
   "metadata": {},
   "outputs": [],
   "source": []
  },
  {
   "cell_type": "markdown",
   "metadata": {},
   "source": [
    "**Q**: Are the channels organized according to the [10-20 international electrode placement system](https://en.wikipedia.org/wiki/10%E2%80%9320_system_(EEG))?\n",
    "\n",
    "> &nbsp;"
   ]
  },
  {
   "cell_type": "markdown",
   "metadata": {},
   "source": [
    "## Step 2: Marking Bad Channels\n",
    "\n",
    "Take a moment to browse the raw data.\n",
    "\n",
    "---\n",
    "\n",
    "**Note:** The raw data visualizor requires the *matplotlib qt5* backend. This cannot be called in the same notebook as the *matplotlib inline* backend. For your convenience, code for inspecting raw data has been stored in **eeg-ps-inspector.ipynb**. \n",
    "\n",
    "---\n",
    "\n",
    "**Q**: Do any of the channels look bad? \n",
    "\n",
    "> &nbsp;\n",
    "\n",
    "Mark the bad channel (if any) below."
   ]
  },
  {
   "cell_type": "code",
   "execution_count": null,
   "metadata": {},
   "outputs": [],
   "source": [
    "## Designate bad channels.\n",
    "raw.info['bads'] = []"
   ]
  },
  {
   "cell_type": "markdown",
   "metadata": {},
   "source": [
    "## Step 3: Filtering\n",
    "\n",
    "Apply a bandpass filter of [0.5, 30 Hz] to the data.\n",
    "\n",
    "**Note**: Use `mne.pick_types` to apply the filter only to the EEG channels."
   ]
  },
  {
   "cell_type": "code",
   "execution_count": null,
   "metadata": {},
   "outputs": [],
   "source": []
  },
  {
   "cell_type": "markdown",
   "metadata": {},
   "source": [
    "## Step 4: Independent Components Analysis (ICA)\n",
    "\n",
    "In this final step, we will perform ICA to remove eyeblinks from the data. Use the code from class to fit an ICA model with 25 components to the data. \n",
    "\n",
    "**Note:** The eyeblink artifact is exceedingly large in magnitude in the frontal channels (e.g. FPz, FP1, FP2). You will need to use a large amplitude rejection threshold in order to avoid rejecting many epochs from the ICA model."
   ]
  },
  {
   "cell_type": "code",
   "execution_count": null,
   "metadata": {},
   "outputs": [],
   "source": []
  },
  {
   "cell_type": "markdown",
   "metadata": {},
   "source": [
    "Next, plot the scalp topography of each component to identify artifactual-looking components."
   ]
  },
  {
   "cell_type": "code",
   "execution_count": null,
   "metadata": {},
   "outputs": [],
   "source": []
  },
  {
   "cell_type": "markdown",
   "metadata": {},
   "source": [
    "**Q**: Based on first impressions, which components look like ocular artifact?\n",
    "\n",
    "> &nbsp;\n",
    "\n",
    "To more objectively identify artifactual components, you will construct eyeblink epochs to correlate with each component. Use the `create_eog_epochs` code we covered in class. Plot the resulting eyeblinks. "
   ]
  },
  {
   "cell_type": "code",
   "execution_count": null,
   "metadata": {},
   "outputs": [],
   "source": []
  },
  {
   "cell_type": "markdown",
   "metadata": {},
   "source": [
    "Next we detect EOG related components using correlation. Detection is based on Pearson correlation between the filtered data and the filtered EOG channel. "
   ]
  },
  {
   "cell_type": "code",
   "execution_count": null,
   "metadata": {},
   "outputs": [],
   "source": []
  },
  {
   "cell_type": "markdown",
   "metadata": {},
   "source": [
    "**Q**: Which components most strongly correlate with the eyeblinks?\n",
    "\n",
    "> &nbsp;\n",
    "\n",
    "Inspect the source timecourse within the time window of our EOG average."
   ]
  },
  {
   "cell_type": "code",
   "execution_count": null,
   "metadata": {},
   "outputs": [],
   "source": []
  },
  {
   "cell_type": "markdown",
   "metadata": {},
   "source": [
    "Now visualize how we would modify our signals if we removed this component from the data."
   ]
  },
  {
   "cell_type": "code",
   "execution_count": null,
   "metadata": {},
   "outputs": [],
   "source": []
  },
  {
   "cell_type": "markdown",
   "metadata": {},
   "source": [
    "Register any bad components using the `ica.exclude` attribute."
   ]
  },
  {
   "cell_type": "code",
   "execution_count": null,
   "metadata": {},
   "outputs": [],
   "source": []
  },
  {
   "cell_type": "markdown",
   "metadata": {},
   "source": [
    "Now remove the effects of the rejected components using the `apply` method. Apply the ICA transformation to a copy of the original raw data."
   ]
  },
  {
   "cell_type": "code",
   "execution_count": null,
   "metadata": {},
   "outputs": [],
   "source": []
  },
  {
   "cell_type": "markdown",
   "metadata": {},
   "source": [
    "## Step 5: Save the Preprocessed Data\n",
    "\n",
    "Finally, save the new preprocessed raw data for use in the next notebook. Save it as *sub-01_task-digitsymbol_preproc_raw.fif*."
   ]
  },
  {
   "cell_type": "code",
   "execution_count": null,
   "metadata": {},
   "outputs": [],
   "source": []
  }
 ],
 "metadata": {
  "kernelspec": {
   "display_name": "Python 3",
   "language": "python",
   "name": "python3"
  },
  "language_info": {
   "codemirror_mode": {
    "name": "ipython",
    "version": 3
   },
   "file_extension": ".py",
   "mimetype": "text/x-python",
   "name": "python",
   "nbconvert_exporter": "python",
   "pygments_lexer": "ipython3",
   "version": "3.7.1"
  }
 },
 "nbformat": 4,
 "nbformat_minor": 2
}
