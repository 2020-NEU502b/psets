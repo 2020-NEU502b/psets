{
 "cells": [
  {
   "cell_type": "markdown",
   "metadata": {},
   "source": [
    "# EEG Problem Set (Part 3)"
   ]
  },
  {
   "cell_type": "code",
   "execution_count": null,
   "metadata": {},
   "outputs": [],
   "source": [
    "import numpy as np\n",
    "import matplotlib.pyplot as plt\n",
    "import seaborn as sns\n",
    "from mne import set_log_level\n",
    "set_log_level(verbose=False)\n",
    "%matplotlib inline"
   ]
  },
  {
   "cell_type": "markdown",
   "metadata": {},
   "source": [
    "## Instructions\n",
    "\n",
    "In the previous section, you measured the P300 in response to rare trials. During rare trials, participants need to inhibit a prepotent motor response (i.e. responding as if they saw a frequent trial). The need for motor inhibition is often said to generate a conflict signal. In scalp EEG, conflict signals are detectable as increases in non-phase-locked theta (4-8 Hz) power. In this final section, you will follow the steps as detailed in [Cohen & Donner (2013)](https://www.physiology.org/doi/full/10.1152/jn.00479.2013) to measure the theta signature of conflict in rare trials.\n",
    "\n",
    "We first begin by loading in the epochs."
   ]
  },
  {
   "cell_type": "code",
   "execution_count": null,
   "metadata": {},
   "outputs": [],
   "source": [
    "from mne import read_epochs\n",
    "\n",
    "## Load epochs.\n",
    "epochs = read_epochs('sub-01_task-digitsymbol-epo.fif', preload=True, verbose=False)\n",
    "print(epochs)"
   ]
  },
  {
   "cell_type": "markdown",
   "metadata": {},
   "source": [
    "## Step 1: Spectral Decomposition\n",
    "\n",
    "With the epochs loaded, you will perform a spectral decomposition on the data to measure the time-frequency content of the data. Following [Cohen & Donner (2013)](https://www.physiology.org/doi/full/10.1152/jn.00479.2013), you will use Morlet wavelet decomposition. \n",
    "\n",
    "First you need to define the frequencies you want to measure. Using `np.logspace`, generate a vector of 12 logarithmically-spaced frequencies beginning at 4 Hz and ending at 30 Hz. (Note: If you do this correct, your vector should start and end with 4 and 30, respectively.)"
   ]
  },
  {
   "cell_type": "code",
   "execution_count": null,
   "metadata": {},
   "outputs": [],
   "source": []
  },
  {
   "cell_type": "markdown",
   "metadata": {},
   "source": [
    "In this next section, you are going to perform the spectral decomposition. The challenge is that you will need to measure non-phase-locked power. In other words, you are decomposing the epochs after the evoked potential has been subtracted. Importantly, this subtraction must occur within each condition. \n",
    "\n",
    "To assist you, we have started a for loop. In each cycle of the for loop, you will perform the following steps:\n",
    "\n",
    "1. Make copy of the per-condition epochs.\n",
    "2. Subtract evoked potential from copy.\n",
    "3. Perform Morlet wavelet decomposition on the evoked-subtracted copy using the following parameters:\n",
    "    - `freqs`: as defined above\n",
    "    - `n_cycles`: 3\n",
    "    - `return_itc`: False\n",
    "4. Apply a baseline transformation to the power estimates making sure to:\n",
    "    - Baseline correct (-0.1, 0.0)\n",
    "    - Convert power into decibels."
   ]
  },
  {
   "cell_type": "code",
   "execution_count": null,
   "metadata": {},
   "outputs": [],
   "source": [
    "from mne.time_frequency import tfr_morlet\n",
    "\n",
    "## Define conditions.\n",
    "conditions = ['20_Dig_L', '20_Dig_R', '20_Let_L', '20_Let_R',\n",
    "              '80_Dig_L', '80_Dig_R', '80_Let_L', '80_Let_R']\n",
    "\n",
    "## Main loop.\n",
    "spectral = []\n",
    "for k in conditions:\n",
    "\n",
    "    ## Make temporary copy.\n",
    "    trials = epochs[k].copy()\n",
    "    \n",
    "    ## Subtract evoked.\n",
    "    # <code goes here>\n",
    "    \n",
    "    ## Perform Morlet-based time-frequency decomposition.\n",
    "    # <code goes here>\n",
    "    \n",
    "    ## Apply baseline transformation.\n",
    "    # <code goes here>\n",
    "    \n",
    "    ## Store.\n",
    "    spectral.append( \"\"\"<code goes here>\"\"\" )\n",
    "    \n",
    "## Convert to NumPy array.\n",
    "spectral = np.array(spectral)"
   ]
  },
  {
   "cell_type": "markdown",
   "metadata": {},
   "source": [
    "## Step 2: Compute Averages \n",
    "\n",
    "Using the power estimates defined above, create an average spectrogram for the frequent and rare trials."
   ]
  },
  {
   "cell_type": "code",
   "execution_count": null,
   "metadata": {},
   "outputs": [],
   "source": []
  },
  {
   "cell_type": "markdown",
   "metadata": {},
   "source": [
    "## Step 3: Visualize Spectrograms\n",
    "\n",
    "#### Frequent Trials\n",
    "\n",
    "Plot the spectrogram of the frequent trials for channel FCz using your favorite heatmap function."
   ]
  },
  {
   "cell_type": "code",
   "execution_count": null,
   "metadata": {},
   "outputs": [],
   "source": []
  },
  {
   "cell_type": "markdown",
   "metadata": {},
   "source": [
    "#### Rare Trials\n",
    "\n",
    "Plot the spectrogram of the rare trials for channel FCz using your favorite heatmap function."
   ]
  },
  {
   "cell_type": "code",
   "execution_count": null,
   "metadata": {},
   "outputs": [],
   "source": []
  },
  {
   "cell_type": "markdown",
   "metadata": {},
   "source": [
    "#### Rare - Frequent Trials\n",
    "\n",
    "Plot the spectrogram of the rare - frequent trials for channel FCz using your favorite heatmap function."
   ]
  },
  {
   "cell_type": "code",
   "execution_count": null,
   "metadata": {},
   "outputs": [],
   "source": []
  },
  {
   "cell_type": "markdown",
   "metadata": {},
   "source": [
    "**Q:** Is there an increase in theta power between frequent and rare trials? If so, where?\n",
    "\n",
    "> &nbsp;\n",
    "\n",
    "**Q:** Does the plot above resemble the non-phase-locked power from the midfrontal electrode (FCz) in Figure 2 of [Cohen & Donner (2013)](https://www.physiology.org/doi/full/10.1152/jn.00479.2013)?\n",
    "\n",
    "> &nbsp;\n"
   ]
  }
 ],
 "metadata": {
  "kernelspec": {
   "display_name": "Python 3",
   "language": "python",
   "name": "python3"
  },
  "language_info": {
   "codemirror_mode": {
    "name": "ipython",
    "version": 3
   },
   "file_extension": ".py",
   "mimetype": "text/x-python",
   "name": "python",
   "nbconvert_exporter": "python",
   "pygments_lexer": "ipython3",
   "version": "3.7.1"
  }
 },
 "nbformat": 4,
 "nbformat_minor": 2
}
