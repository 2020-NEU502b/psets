{
 "cells": [
  {
   "cell_type": "markdown",
   "metadata": {},
   "source": [
    "# EEG Problem Set (Part 2)"
   ]
  },
  {
   "cell_type": "code",
   "execution_count": null,
   "metadata": {},
   "outputs": [],
   "source": [
    "import numpy as np\n",
    "import matplotlib.pyplot as plt\n",
    "import seaborn as sns\n",
    "from mne import set_log_level\n",
    "set_log_level(verbose=False)\n",
    "%matplotlib inline"
   ]
  },
  {
   "cell_type": "markdown",
   "metadata": {},
   "source": [
    "## Instructions\n",
    "\n",
    "In the second part of this problem set, you will be performing an ERP analysis on the preprocessed data. First let's describe the task in greater detail. \n",
    "\n",
    "This experiment is based on the oddball paradigm used in [Luck et al., (2009)](https://onlinelibrary.wiley.com/doi/abs/10.1111/j.1469-8986.2009.00817.x). In the oddball paradigm, a letter or digit was presented every 1100-1500 ms. Subjects were instructed to press a button with one hand for digits and with the other hand for letters. For a given trial block, either the letters or the digits were rare (20%) and the other category was frequent (80%). Thus, the stimulus category and the probability were counterbalanced. The probability manipulation was designed to isolate the probability-sensitive P300 component. Different event codes were used for the digits when they were rare, the digits when they were frequent, the letters when they were rare, and the letters when they were frequent. \n",
    "\n",
    "The P300 is a neural marker of surprise. As such, we expect a larger P300 during the rare trials than for the frequent trials. In this second notebook, you will analyze the difference (if any) in P300s between conditions. Specifically, you will (1) epoch the raw data, (2) organize the data by condition, (3) perform permutation testing, and (4) visualize the evoked potentials.\n",
    "\n",
    "We begin by loading in the preprocessed data."
   ]
  },
  {
   "cell_type": "code",
   "execution_count": null,
   "metadata": {},
   "outputs": [],
   "source": [
    "from mne.io import read_raw_fif\n",
    "\n",
    "## Load data.\n",
    "raw = read_raw_fif('sub-01_task-digitsymbol_preproc_raw.fif', preload=True, verbose=False)\n",
    "print(raw)"
   ]
  },
  {
   "cell_type": "markdown",
   "metadata": {},
   "source": [
    "## Step 1: Gather Events\n",
    "\n",
    "In this first step, we will read in all of the trial events from the raw data. To do this, use `mne.events_from_annotations`. Import the function and apply it to the raw data."
   ]
  },
  {
   "cell_type": "code",
   "execution_count": null,
   "metadata": {},
   "outputs": [],
   "source": [
    "from mne import events_from_annotations\n",
    "\n",
    "## Gather events.\n",
    "events, event_id = events_from_annotations(raw)"
   ]
  },
  {
   "cell_type": "markdown",
   "metadata": {},
   "source": [
    "Next, use `plot_events` from `mne.viz` to visualize out the events. "
   ]
  },
  {
   "cell_type": "code",
   "execution_count": null,
   "metadata": {},
   "outputs": [],
   "source": []
  },
  {
   "cell_type": "markdown",
   "metadata": {},
   "source": [
    "**Q**: How many trial types are there? How are they organized?\n",
    "\n",
    "> &nbsp;\n",
    "\n",
    "**Q**: How many response types are there? What are they?\n",
    "\n",
    "> &nbsp;"
   ]
  },
  {
   "cell_type": "markdown",
   "metadata": {},
   "source": [
    "## Step 2: Epoching\n",
    "\n",
    "Now we will perform epoching. First we must define the **event_id**. Remember that event IDs are Python dictionaries, where the keys are the event labels (e.g. 20_Dig_R, 80_Dig_R) and the values are the event integers (see y-axis of plot above).\n",
    "\n",
    "In the following, include only the events correspdonding to the onset of the stimuli (i.e. do not include the response events). "
   ]
  },
  {
   "cell_type": "code",
   "execution_count": null,
   "metadata": {},
   "outputs": [],
   "source": []
  },
  {
   "cell_type": "markdown",
   "metadata": {},
   "source": [
    "Now we must define the time window for our epochs. We will use:\n",
    "- tmin: 200ms\n",
    "- tmax: 1000ms\n",
    "- baseline: = (None, 0)"
   ]
  },
  {
   "cell_type": "code",
   "execution_count": null,
   "metadata": {},
   "outputs": [],
   "source": []
  },
  {
   "cell_type": "markdown",
   "metadata": {},
   "source": [
    "Now we must define our rejection criterion. Define a reasonable threshold."
   ]
  },
  {
   "cell_type": "code",
   "execution_count": null,
   "metadata": {},
   "outputs": [],
   "source": []
  },
  {
   "cell_type": "markdown",
   "metadata": {},
   "source": [
    "Now perform epoching using `mne.Epochs`. \n",
    "\n",
    "**Note:** Use `pick_types` to include only the EEG channels (i.e. we no longer need the EOG or trigger channels)."
   ]
  },
  {
   "cell_type": "code",
   "execution_count": null,
   "metadata": {},
   "outputs": [],
   "source": []
  },
  {
   "cell_type": "markdown",
   "metadata": {},
   "source": [
    "Now we drop bad epochs. "
   ]
  },
  {
   "cell_type": "code",
   "execution_count": null,
   "metadata": {},
   "outputs": [],
   "source": []
  },
  {
   "cell_type": "markdown",
   "metadata": {},
   "source": [
    "**Q**: How many trials are left per condition after dropping bad epochs? \n",
    "> &nbsp;\n",
    "\n",
    "Finally, let's save our epochs. Save the data as *sub-01_task-digitsymbol-epo.fif*."
   ]
  },
  {
   "cell_type": "code",
   "execution_count": null,
   "metadata": {},
   "outputs": [],
   "source": []
  },
  {
   "cell_type": "markdown",
   "metadata": {},
   "source": [
    "## Step 3: Event Related Potential Analysis\n",
    "\n",
    "Now we get to the fun part. In the following, you will look to find the P300 in the evoked potentials of each condition."
   ]
  },
  {
   "cell_type": "markdown",
   "metadata": {},
   "source": [
    "### Evoked Potentials\n",
    "\n",
    "First, make two evoked potentials:\n",
    "- *frequent*: an average of all the frequent (80) trials, collapsing over symbol and hand.\n",
    "- *rare*: an average of all the rare (20) trials, collapsing over symbol and hand."
   ]
  },
  {
   "cell_type": "code",
   "execution_count": null,
   "metadata": {},
   "outputs": [],
   "source": []
  },
  {
   "cell_type": "markdown",
   "metadata": {},
   "source": [
    "### Compare Evoked Potentials\n",
    "Using `mne.viz.plot_evoked_topo`, plot a comparison of all the evoked potentials across the scalp."
   ]
  },
  {
   "cell_type": "code",
   "execution_count": null,
   "metadata": {},
   "outputs": [],
   "source": []
  },
  {
   "cell_type": "markdown",
   "metadata": {},
   "source": [
    "**Q**: Is there an obvious P300?\n",
    "\n",
    "> &nbsp;\n",
    "\n",
    "**Q**: If there is a P300, is it prominent everywhere?\n",
    "\n",
    "> &nbsp;"
   ]
  },
  {
   "cell_type": "markdown",
   "metadata": {},
   "source": [
    "### Topographic Plots\n",
    "Make topographic plots for the **difference wave**  Remember that the P300 should start around 300 ms and persist for many hundreds of milliseconds."
   ]
  },
  {
   "cell_type": "code",
   "execution_count": null,
   "metadata": {},
   "outputs": [],
   "source": []
  },
  {
   "cell_type": "markdown",
   "metadata": {},
   "source": [
    "**Q**: If present, when is the P300 most prominent?\n",
    "\n",
    "> &nbsp;\n",
    "\n",
    "**Q**: If present, where is the P300 most prominent?\n",
    "\n",
    "> &nbsp;"
   ]
  },
  {
   "cell_type": "markdown",
   "metadata": {},
   "source": [
    "## Step 4: Replication + Permutation Testing\n",
    "\n",
    "In this final step, we will formalize our analysis by replicating and extending Figure 2 from [Luck et al., (2009)](https://onlinelibrary.wiley.com/doi/abs/10.1111/j.1469-8986.2009.00817.x). To do so, we will perform permutation testing, testing for differences in the amplitude of the P300 between conditions across three sets of channels.\n",
    "\n",
    "First, make two separate epoch objects:\n",
    "- *frequent*: all the frequent (80)\n",
    "- *rare*: all the rare (20) trials"
   ]
  },
  {
   "cell_type": "code",
   "execution_count": null,
   "metadata": {},
   "outputs": [],
   "source": []
  },
  {
   "cell_type": "markdown",
   "metadata": {},
   "source": [
    "Next, find the corresponding indices for the following sets of channels. Find the indices using `mne.pick_channels`. \n",
    "- frontal: F1, Fz, F2\n",
    "- central: C3, Cz, C4\n",
    "- parietal: P3, Pz, P4"
   ]
  },
  {
   "cell_type": "code",
   "execution_count": null,
   "metadata": {},
   "outputs": [],
   "source": []
  },
  {
   "cell_type": "markdown",
   "metadata": {},
   "source": [
    "Following the permutation testing code presented in the `eeg-02` demo, write a *for loop* that performs the following for each channel set:\n",
    "\n",
    "1. Extracts the trials by channel set and condition (frequent, rare).\n",
    "2. Average over the channels.\n",
    "3. Performs permutation testing with 1024 permutations.\n",
    "4. Plots the evoked potential (i.e. average over trials) per condition and highlights significant clusters."
   ]
  },
  {
   "cell_type": "code",
   "execution_count": null,
   "metadata": {},
   "outputs": [],
   "source": []
  }
 ],
 "metadata": {
  "kernelspec": {
   "display_name": "Python 3",
   "language": "python",
   "name": "python3"
  },
  "language_info": {
   "codemirror_mode": {
    "name": "ipython",
    "version": 3
   },
   "file_extension": ".py",
   "mimetype": "text/x-python",
   "name": "python",
   "nbconvert_exporter": "python",
   "pygments_lexer": "ipython3",
   "version": "3.7.1"
  }
 },
 "nbformat": 4,
 "nbformat_minor": 2
}
